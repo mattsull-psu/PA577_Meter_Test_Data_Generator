{
    "metadata": {
        "kernelspec": {
            "name": "python3",
            "display_name": "Python 3",
            "language": "python"
        },
        "language_info": {
            "name": "python",
            "version": "3.8.10",
            "mimetype": "text/x-python",
            "codemirror_mode": {
                "name": "ipython",
                "version": 3
            },
            "pygments_lexer": "ipython3",
            "nbconvert_exporter": "python",
            "file_extension": ".py"
        }
    },
    "nbformat_minor": 2,
    "nbformat": 4,
    "cells": [
        {
            "cell_type": "markdown",
            "source": [
                "The code that is part of the software design is in model module"
            ],
            "metadata": {
                "language": "python",
                "azdata_cell_guid": "596b7021-1264-420e-9788-aee6a922c261"
            },
            "attachments": {}
        },
        {
            "cell_type": "code",
            "source": [
                "from generator_model import *\r\n",
                "from profiler_model import *\r\n",
                "print ('Core modules loaded')\r\n",
                ""
            ],
            "metadata": {
                "azdata_cell_guid": "046ce90b-79f6-4380-a4d6-dda8ef71b8a5",
                "language": "python",
                "tags": []
            },
            "outputs": [],
            "execution_count": null
        },
        {
            "cell_type": "markdown",
            "source": [
                "Implementation modules are specific to the needs to integrate to the tested environment. \n",
                "\n",
                "For demonstrations, we will use a sample implementation for a CSV storage mechanism, or 'persistor'."
            ],
            "metadata": {
                "language": "python",
                "azdata_cell_guid": "ab0c6958-44f0-4d59-b2ad-96a8f167883f"
            },
            "attachments": {}
        },
        {
            "cell_type": "code",
            "source": [
                "from csv_persistor import *\r\n",
                "print ('Implementation modules loaded')\r\n",
                ""
            ],
            "metadata": {
                "language": "python",
                "azdata_cell_guid": "7897d220-c25c-499b-9744-45d10a5866d4"
            },
            "outputs": [],
            "execution_count": null
        },
        {
            "cell_type": "markdown",
            "source": [
                "From here we begins testing. To start, we create a facility. This will be a mult-family residence with a common area meter."
            ],
            "metadata": {
                "language": "python",
                "azdata_cell_guid": "b2bc3aae-c9f1-45d0-968a-0e1fcdea33ab"
            },
            "attachments": {}
        },
        {
            "cell_type": "code",
            "source": [
                "facility = Facility()\r\n",
                "facility.name = \"Acme Apartments\"\r\n",
                "facility.postal_code = '99999'\r\n",
                "facility.building_type = BuildingType.Multitenant\r\n",
                "facility.customer_type = CustomerType.Residential\r\n",
                "print(f\"The facility id is{facility_1.id}\")\r\n",
                "profile_1 = Profile()\r\n",
                "profile_1.name = \"Apartment building common area\"\r\n",
                "profile_1.facility = facility.id\r\n",
                "print(f'Common area profile is {profile_1.id}')\r\n",
                "profile_2 = Profile()\r\n",
                "profile_2.name = 'Apartment building residence'\r\n",
                "print(f'Residence profile is {profile_2.id}')\r\n",
                ""
            ],
            "metadata": {
                "language": "python",
                "azdata_cell_guid": "2f7a31ef-bbde-4048-bab7-7bcec8326209"
            },
            "outputs": [],
            "execution_count": null
        },
        {
            "cell_type": "markdown",
            "source": [
                "We will create two profiles for the facility. The first is for the common area meter.  We load up raw data from a file."
            ],
            "metadata": {
                "language": "python",
                "azdata_cell_guid": "addbe0c8-1f5d-4a58-978a-357c1e126821"
            },
            "attachments": {}
        },
        {
            "cell_type": "code",
            "source": [
                "print('Now loading raw data')\r\n",
                "raw_data_1 = CsvRawDataLoader().load('Data\\\\raw_data_example_1.csv')\r\n",
                "raw_data_2 = CsvRawDataLoader().load('Data\\\\raw_data_example_2.csv')\r\n",
                "print('Done loading')\r\n",
                "point_persistor = CsvProfileIntervalPersistor()\r\n",
                "profile_rule = [ZeroValueProfileRule()]\r\n",
                "print('Generating first profile')\r\n",
                "profile_points_1 = Profiler.generate(rules=profile_rule, raw_intervals=raw_data_1, profile=profile_1)\r\n",
                "print('Generating second profile')\r\n",
                "profile_points_2 = Profiler.generate(rules=profile_rule, raw_intervals=raw_data_2, profile=profile_2)\r\n",
                "\r\n",
                "print('Saving first set of profile points')\r\n",
                "point_persistor.persist(profile_points_1, profile_1.id)\r\n",
                "print('Saving second set of profile points')\r\n",
                "point_persistor.persist(profile_points_2, profile_1.id)"
            ],
            "metadata": {
                "language": "python",
                "azdata_cell_guid": "66ad5e13-952d-4b80-90c3-efa7093c674e"
            },
            "outputs": [],
            "execution_count": null
        }
    ]
}